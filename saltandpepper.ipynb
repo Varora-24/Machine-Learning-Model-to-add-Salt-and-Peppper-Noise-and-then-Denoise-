{
  "nbformat": 4,
  "nbformat_minor": 0,
  "metadata": {
    "colab": {
      "provenance": [],
      "authorship_tag": "ABX9TyNBJL2YnGsSU7nqWRyPlni1",
      "include_colab_link": true
    },
    "kernelspec": {
      "name": "python3",
      "display_name": "Python 3"
    },
    "language_info": {
      "name": "python"
    }
  },
  "cells": [
    {
      "cell_type": "markdown",
      "metadata": {
        "id": "view-in-github",
        "colab_type": "text"
      },
      "source": [
        "<a href=\"https://colab.research.google.com/github/Varora-24/Machine-Learning-Model-to-add-Salt-and-Peppper-Noise-and-then-Denoise-/blob/main/saltandpepper.ipynb\" target=\"_parent\"><img src=\"https://colab.research.google.com/assets/colab-badge.svg\" alt=\"Open In Colab\"/></a>"
      ]
    },
    {
      "cell_type": "code",
      "source": [
        "import cv2\n",
        "import numpy as np\n",
        "\n",
        "# Load the image\n",
        "image = cv2.imread('Lennadidi.png')\n",
        "\n",
        "def add_salt_and_pepper_noise(img, amount=0.05, salt_vs_pepper=0.5):\n",
        "    noisy = img.copy()\n",
        "    total_pixels = img.shape[0] * img.shape[1]\n",
        "    num_salt = np.ceil(amount * total_pixels * salt_vs_pepper)\n",
        "    num_pepper = np.ceil(amount * total_pixels * (1.0 - salt_vs_pepper))\n",
        "\n",
        "    # Add salt\n",
        "    coords = [np.random.randint(0, i - 1, int(num_salt))\n",
        "              for i in img.shape[:2]]\n",
        "    noisy[coords[0], coords[1]] = 255\n",
        "\n",
        "    # Add pepper\n",
        "    coords = [np.random.randint(0, i - 1, int(num_pepper))\n",
        "              for i in img.shape[:2]]\n",
        "    noisy[coords[0], coords[1]] = 0\n",
        "\n",
        "    return noisy\n",
        "\n",
        "# Apply salt and pepper noise\n",
        "noisy_image = add_salt_and_pepper_noise(image, amount=0.05)\n",
        "\n",
        "# Save or display the result\n",
        "cv2.imwrite('Lennadidi_noisy.jpg', noisy_image)\n",
        "# cv2.imshow('Salt and Pepper Noise', noisy_image)\n",
        "# cv2.waitKey(0)\n",
        "# cv2.destroyAllWindows()\n"
      ],
      "metadata": {
        "colab": {
          "base_uri": "https://localhost:8080/"
        },
        "id": "BMXTGJrvfp7O",
        "outputId": "2dd2f9ba-fbbf-464c-a2e3-ad8d3496b205"
      },
      "execution_count": 2,
      "outputs": [
        {
          "output_type": "execute_result",
          "data": {
            "text/plain": [
              "True"
            ]
          },
          "metadata": {},
          "execution_count": 2
        }
      ]
    },
    {
      "cell_type": "code",
      "source": [
        "import cv2\n",
        "\n",
        "# Load the noisy image\n",
        "img = cv2.imread('Lennadidi_noisy.jpg')\n",
        "\n",
        "# Apply median filter with a 3x3 kernel\n",
        "denoised_img = cv2.medianBlur(img, 3)\n",
        "\n",
        "# Save or display the denoised image\n",
        "cv2.imwrite('Lennadidi_denoised.jpg', denoised_img)\n",
        "# cv2.imshow('Denoised Image', denoised_img)\n",
        "# cv2.waitKey(0)\n",
        "# cv2.destroyAllWindows()\n"
      ],
      "metadata": {
        "colab": {
          "base_uri": "https://localhost:8080/"
        },
        "id": "1Pq9dtYegaz8",
        "outputId": "fc00e112-52dd-4a28-e6f8-e19788fde365"
      },
      "execution_count": 3,
      "outputs": [
        {
          "output_type": "execute_result",
          "data": {
            "text/plain": [
              "True"
            ]
          },
          "metadata": {},
          "execution_count": 3
        }
      ]
    },
    {
      "cell_type": "code",
      "source": [
        "import cv2\n",
        "import numpy as np\n",
        "\n",
        "# Load images\n",
        "original = cv2.imread('Lennadidi.png')\n",
        "noisy = cv2.imread('Lennadidi_noisy.jpg')\n",
        "denoised = cv2.imread('Lennadidi_denoised.jpg')\n",
        "\n",
        "# Check if images were loaded successfully\n",
        "if original is None:\n",
        "    print(\"Error: Could not load original image. Please check the file path 'Lennadidi.jpg'.\")\n",
        "elif noisy is None:\n",
        "    print(\"Error: Could not load noisy image. Please check the file path 'Lennadidi_noisy.jpg'.\")\n",
        "elif denoised is None:\n",
        "    print(\"Error: Could not load denoised image. Please check the file path 'Lennadidi_denoised.jpg'.\")\n",
        "else:\n",
        "    # Optionally resize images to same height (if needed)\n",
        "    height = min(original.shape[0], noisy.shape[0], denoised.shape[0])\n",
        "    width = min(original.shape[1], noisy.shape[1], denoised.shape[1])\n",
        "\n",
        "    original = cv2.resize(original, (width, height))\n",
        "    noisy = cv2.resize(noisy, (width, height))\n",
        "    denoised = cv2.resize(denoised, (width, height))\n",
        "\n",
        "    # Concatenate images horizontally\n",
        "    combined = np.hstack((original, noisy, denoised))\n",
        "\n",
        "    # Save or display the combined image\n",
        "    cv2.imwrite('comparison_frame.jpg', combined)\n",
        "    # cv2.imshow('Comparison', combined)\n",
        "    # cv2.waitKey(0)\n",
        "    # cv2.destroyAllWindows()"
      ],
      "metadata": {
        "id": "oQbeU-2OhEyB"
      },
      "execution_count": 4,
      "outputs": []
    },
    {
      "cell_type": "code",
      "source": [
        "import cv2\n",
        "import numpy as np\n",
        "from math import log10, sqrt\n",
        "\n",
        "# Function to safely load an image with error handling\n",
        "def load_image(path):\n",
        "    img = cv2.imread(path)\n",
        "    if img is None:\n",
        "        raise FileNotFoundError(f\"Image not found or unable to load: {path}\")\n",
        "    return img\n",
        "\n",
        "# Function to add salt and pepper noise\n",
        "def add_salt_and_pepper_noise(img, amount=0.05, salt_vs_pepper=0.5):\n",
        "    noisy = img.copy()\n",
        "    total_pixels = img.shape[0] * img.shape[1]\n",
        "    num_salt = np.ceil(amount * total_pixels * salt_vs_pepper)\n",
        "    num_pepper = np.ceil(amount * total_pixels * (1.0 - salt_vs_pepper))\n",
        "\n",
        "    # Add salt noise (white pixels)\n",
        "    coords = [np.random.randint(0, i - 1, int(num_salt)) for i in img.shape[:2]]\n",
        "    noisy[coords[0], coords[1]] = 255\n",
        "\n",
        "    # Add pepper noise (black pixels)\n",
        "    coords = [np.random.randint(0, i - 1, int(num_pepper)) for i in img.shape[:2]]\n",
        "    noisy[coords[0], coords[1]] = 0\n",
        "\n",
        "    return noisy\n",
        "\n",
        "# Function to calculate PSNR\n",
        "def calculate_psnr(original, compared):\n",
        "    mse = np.mean((original - compared) ** 2)\n",
        "    if mse == 0:\n",
        "        return float('inf')  # No difference\n",
        "    max_pixel = 255.0\n",
        "    psnr = 20 * log10(max_pixel / sqrt(mse))\n",
        "    return psnr\n",
        "\n",
        "# Load the original image\n",
        "original_path = 'Lennadidi.png'\n",
        "original = load_image(original_path)\n",
        "\n",
        "# Add salt and pepper noise\n",
        "noisy = add_salt_and_pepper_noise(original, amount=0.05)\n",
        "cv2.imwrite('Lennadidi_noisy.jpg', noisy)\n",
        "\n",
        "# Apply median filter to remove noise\n",
        "denoised = cv2.medianBlur(noisy, 3)\n",
        "cv2.imwrite('Lennadidi_denoised.jpg', denoised)\n",
        "\n",
        "# Resize images to the smallest common size for concatenation\n",
        "height = min(original.shape[0], noisy.shape[0], denoised.shape[0])\n",
        "width = min(original.shape[1], noisy.shape[1], denoised.shape[1])\n",
        "\n",
        "original_resized = cv2.resize(original, (width, height))\n",
        "noisy_resized = cv2.resize(noisy, (width, height))\n",
        "denoised_resized = cv2.resize(denoised, (width, height))\n",
        "\n",
        "# Concatenate images horizontally for side-by-side comparison\n",
        "combined = np.hstack((original_resized, noisy_resized, denoised_resized))\n",
        "cv2.imwrite('comparison_frame.jpg', combined)\n",
        "\n",
        "# Calculate PSNR values\n",
        "psnr_noisy = calculate_psnr(original_resized, noisy_resized)\n",
        "psnr_denoised = calculate_psnr(original_resized, denoised_resized)\n",
        "\n",
        "# Calculate the improvement percentage of denoising over noisy image\n",
        "if psnr_noisy == 0:\n",
        "    improvement = float('inf')  # Avoid division by zero\n",
        "else:\n",
        "    improvement = ((psnr_denoised - psnr_noisy) / psnr_noisy) * 100\n",
        "\n",
        "# Print PSNR and improvement results\n",
        "print(f\"PSNR between original and noisy image: {psnr_noisy:.2f} dB\")\n",
        "print(f\"PSNR between original and denoised image: {psnr_denoised:.2f} dB\")\n",
        "print(f\"Denoising improved the PSNR by: {improvement:.2f}%\")\n"
      ],
      "metadata": {
        "colab": {
          "base_uri": "https://localhost:8080/"
        },
        "id": "oRT8KKoYhkr2",
        "outputId": "f688b5a8-abae-4b1c-c852-a0f453167bc9"
      },
      "execution_count": 5,
      "outputs": [
        {
          "output_type": "stream",
          "name": "stdout",
          "text": [
            "PSNR between original and noisy image: 40.96 dB\n",
            "PSNR between original and denoised image: 35.48 dB\n",
            "Denoising improved the PSNR by: -13.38%\n"
          ]
        }
      ]
    }
  ]
}